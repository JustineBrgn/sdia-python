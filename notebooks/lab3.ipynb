{
 "cells": [
  {
   "cell_type": "markdown",
   "metadata": {},
   "source": [
    "# Practical session 3 - Practice with numpy\n",
    "\n",
    "Course: [SDIA-Python](https://github.com/guilgautier/sdia-python)\n",
    "\n",
    "Date: 10/06/2021\n",
    "\n",
    "Instructor: [Guillaume Gautier](https://guilgautier.github.io/)\n",
    "\n",
    "Students (pair):\n",
    "- [Student 1]([link](https://github.com/username1))\n",
    "- [Student 2]([link](https://github.com/username2))"
   ]
  },
  {
   "cell_type": "code",
   "execution_count": 1,
   "metadata": {},
   "outputs": [],
   "source": [
    "%load_ext autoreload\n",
    "%autoreload 2\n",
    "\n",
    "import numpy as np\n",
    "from sdia_python.lab2.utils import get_random_number_generator"
   ]
  },
  {
   "cell_type": "code",
   "execution_count": 2,
   "metadata": {},
   "outputs": [
    {
     "name": "stdout",
     "output_type": "stream",
     "text": [
      "<class 'numpy.ndarray'>\n"
     ]
    },
    {
     "data": {
      "text/plain": [
       "['T',\n",
       " '__abs__',\n",
       " '__add__',\n",
       " '__and__',\n",
       " '__array__',\n",
       " '__array_finalize__',\n",
       " '__array_function__',\n",
       " '__array_interface__',\n",
       " '__array_prepare__',\n",
       " '__array_priority__',\n",
       " '__array_struct__',\n",
       " '__array_ufunc__',\n",
       " '__array_wrap__',\n",
       " '__bool__',\n",
       " '__class__',\n",
       " '__complex__',\n",
       " '__contains__',\n",
       " '__copy__',\n",
       " '__deepcopy__',\n",
       " '__delattr__',\n",
       " '__delitem__',\n",
       " '__dir__',\n",
       " '__divmod__',\n",
       " '__doc__',\n",
       " '__eq__',\n",
       " '__float__',\n",
       " '__floordiv__',\n",
       " '__format__',\n",
       " '__ge__',\n",
       " '__getattribute__',\n",
       " '__getitem__',\n",
       " '__gt__',\n",
       " '__hash__',\n",
       " '__iadd__',\n",
       " '__iand__',\n",
       " '__ifloordiv__',\n",
       " '__ilshift__',\n",
       " '__imatmul__',\n",
       " '__imod__',\n",
       " '__imul__',\n",
       " '__index__',\n",
       " '__init__',\n",
       " '__init_subclass__',\n",
       " '__int__',\n",
       " '__invert__',\n",
       " '__ior__',\n",
       " '__ipow__',\n",
       " '__irshift__',\n",
       " '__isub__',\n",
       " '__iter__',\n",
       " '__itruediv__',\n",
       " '__ixor__',\n",
       " '__le__',\n",
       " '__len__',\n",
       " '__lshift__',\n",
       " '__lt__',\n",
       " '__matmul__',\n",
       " '__mod__',\n",
       " '__mul__',\n",
       " '__ne__',\n",
       " '__neg__',\n",
       " '__new__',\n",
       " '__or__',\n",
       " '__pos__',\n",
       " '__pow__',\n",
       " '__radd__',\n",
       " '__rand__',\n",
       " '__rdivmod__',\n",
       " '__reduce__',\n",
       " '__reduce_ex__',\n",
       " '__repr__',\n",
       " '__rfloordiv__',\n",
       " '__rlshift__',\n",
       " '__rmatmul__',\n",
       " '__rmod__',\n",
       " '__rmul__',\n",
       " '__ror__',\n",
       " '__rpow__',\n",
       " '__rrshift__',\n",
       " '__rshift__',\n",
       " '__rsub__',\n",
       " '__rtruediv__',\n",
       " '__rxor__',\n",
       " '__setattr__',\n",
       " '__setitem__',\n",
       " '__setstate__',\n",
       " '__sizeof__',\n",
       " '__str__',\n",
       " '__sub__',\n",
       " '__subclasshook__',\n",
       " '__truediv__',\n",
       " '__xor__',\n",
       " 'all',\n",
       " 'any',\n",
       " 'argmax',\n",
       " 'argmin',\n",
       " 'argpartition',\n",
       " 'argsort',\n",
       " 'astype',\n",
       " 'base',\n",
       " 'byteswap',\n",
       " 'choose',\n",
       " 'clip',\n",
       " 'compress',\n",
       " 'conj',\n",
       " 'conjugate',\n",
       " 'copy',\n",
       " 'ctypes',\n",
       " 'cumprod',\n",
       " 'cumsum',\n",
       " 'data',\n",
       " 'diagonal',\n",
       " 'dot',\n",
       " 'dtype',\n",
       " 'dump',\n",
       " 'dumps',\n",
       " 'fill',\n",
       " 'flags',\n",
       " 'flat',\n",
       " 'flatten',\n",
       " 'getfield',\n",
       " 'imag',\n",
       " 'item',\n",
       " 'itemset',\n",
       " 'itemsize',\n",
       " 'max',\n",
       " 'mean',\n",
       " 'min',\n",
       " 'nbytes',\n",
       " 'ndim',\n",
       " 'newbyteorder',\n",
       " 'nonzero',\n",
       " 'partition',\n",
       " 'prod',\n",
       " 'ptp',\n",
       " 'put',\n",
       " 'ravel',\n",
       " 'real',\n",
       " 'repeat',\n",
       " 'reshape',\n",
       " 'resize',\n",
       " 'round',\n",
       " 'searchsorted',\n",
       " 'setfield',\n",
       " 'setflags',\n",
       " 'shape',\n",
       " 'size',\n",
       " 'sort',\n",
       " 'squeeze',\n",
       " 'std',\n",
       " 'strides',\n",
       " 'sum',\n",
       " 'swapaxes',\n",
       " 'take',\n",
       " 'tobytes',\n",
       " 'tofile',\n",
       " 'tolist',\n",
       " 'tostring',\n",
       " 'trace',\n",
       " 'transpose',\n",
       " 'var',\n",
       " 'view']"
      ]
     },
     "execution_count": 2,
     "metadata": {},
     "output_type": "execute_result"
    }
   ],
   "source": [
    "my_array = np.array([0])\n",
    "print(type(my_array))\n",
    "dir(np.ndarray)"
   ]
  },
  {
   "cell_type": "markdown",
   "metadata": {},
   "source": [
    "Propose at leat 2 ways to create an integer vector of size 100 made of 1s"
   ]
  },
  {
   "cell_type": "code",
   "execution_count": 16,
   "metadata": {},
   "outputs": [
    {
     "name": "stdout",
     "output_type": "stream",
     "text": [
      "[1. 1. 1. 1. 1. 1. 1. 1. 1. 1. 1. 1. 1. 1. 1. 1. 1. 1. 1. 1. 1. 1. 1. 1.\n",
      " 1. 1. 1. 1. 1. 1. 1. 1. 1. 1. 1. 1. 1. 1. 1. 1. 1. 1. 1. 1. 1. 1. 1. 1.\n",
      " 1. 1. 1. 1. 1. 1. 1. 1. 1. 1. 1. 1. 1. 1. 1. 1. 1. 1. 1. 1. 1. 1. 1. 1.\n",
      " 1. 1. 1. 1. 1. 1. 1. 1. 1. 1. 1. 1. 1. 1. 1. 1. 1. 1. 1. 1. 1. 1. 1. 1.\n",
      " 1. 1. 1. 1.] 100\n",
      "[1 1 1 1 1 1 1 1 1 1 1 1 1 1 1 1 1 1 1 1 1 1 1 1 1 1 1 1 1 1 1 1 1 1 1 1 1\n",
      " 1 1 1 1 1 1 1 1 1 1 1 1 1 1 1 1 1 1 1 1 1 1 1 1 1 1 1 1 1 1 1 1 1 1 1 1 1\n",
      " 1 1 1 1 1 1 1 1 1 1 1 1 1 1 1 1 1 1 1 1 1 1 1 1 1 1]\n"
     ]
    }
   ],
   "source": [
    "v1=np.ones(100)\n",
    "print(v1, len(v1))\n",
    "v2=np.full(100, fill_value=1)\n",
    "print(v2)"
   ]
  },
  {
   "cell_type": "markdown",
   "metadata": {},
   "source": [
    "Create a vector with values ranging from 10 to 49"
   ]
  },
  {
   "cell_type": "code",
   "execution_count": 10,
   "metadata": {},
   "outputs": [
    {
     "name": "stdout",
     "output_type": "stream",
     "text": [
      "[10 11 12 13 14 15 16 17 18 19 20 21 22 23 24 25 26 27 28 29 30 31 32 33\n",
      " 34 35 36 37 38 39 40 41 42 43 44 45 46 47 48 49]\n"
     ]
    }
   ],
   "source": [
    "v=np.arange(10,50)\n",
    "print(v)"
   ]
  },
  {
   "cell_type": "markdown",
   "metadata": {},
   "source": [
    "Propose a way to construct the vector $(0.0, 0.2, 0.4, 0.6, 0.8)$"
   ]
  },
  {
   "cell_type": "code",
   "execution_count": 15,
   "metadata": {},
   "outputs": [
    {
     "name": "stdout",
     "output_type": "stream",
     "text": [
      "[0.  0.2 0.4 0.6 0.8] <class 'numpy.ndarray'>\n",
      "[0.  0.2 0.4 0.6 0.8] <class 'numpy.ndarray'>\n"
     ]
    }
   ],
   "source": [
    "v1=np.linspace(0,0.8,5)\n",
    "print(v1, type(v1))\n",
    "v2=np.arange(0,1,0.2)\n",
    "print(v2, type(v2))\n"
   ]
  },
  {
   "cell_type": "markdown",
   "metadata": {},
   "source": [
    "Convert a float array into an integer array in place"
   ]
  },
  {
   "cell_type": "code",
   "execution_count": 20,
   "metadata": {},
   "outputs": [
    {
     "name": "stdout",
     "output_type": "stream",
     "text": [
      "[0 5 4]\n"
     ]
    }
   ],
   "source": [
    "float_array=np.array([0.2,5.6,4.3])\n",
    "int_array=float_array.astype(int)\n",
    "print(int_array)"
   ]
  },
  {
   "cell_type": "markdown",
   "metadata": {},
   "source": [
    "Given a boolean array\n",
    "\n",
    "- return the indices where \n",
    "- negate the array inplace? "
   ]
  },
  {
   "cell_type": "code",
   "execution_count": 27,
   "metadata": {},
   "outputs": [
    {
     "name": "stdout",
     "output_type": "stream",
     "text": [
      "(array([0, 1, 3], dtype=int64),)\n",
      "[False False  True False] <class 'numpy.ndarray'>\n"
     ]
    }
   ],
   "source": [
    "boolean_array=np.array([True,True,False,True])\n",
    "\n",
    "where_true=np.where(boolean_array)\n",
    "print(where_true)\n",
    "\n",
    "inv=np.invert(boolean_array)\n",
    "print(inv, type(inv))"
   ]
  },
  {
   "cell_type": "markdown",
   "metadata": {},
   "source": [
    "Given 2 vectors $u, v$, propose at least\n",
    "\n",
    "- 2 ways to compute the inner product $v^{\\top} u$ (here they must have the same size)\n",
    "- 2 ways to compute the outer product matrix $u v^{\\top}$\n",
    "- 2 ways to compute the outer sum matrix \"$M = u + v^{\\top}$\", where $M_{ij} = u_i + v_j$"
   ]
  },
  {
   "cell_type": "code",
   "execution_count": 41,
   "metadata": {},
   "outputs": [
    {
     "name": "stdout",
     "output_type": "stream",
     "text": [
      "inner product : [[6]]\n",
      "inner product : [[6]]\n",
      "outer product : \n",
      " [[1 1 1]\n",
      " [2 2 2]\n",
      " [3 3 3]]\n",
      "outer product : \n",
      " [[1 1 1]\n",
      " [2 2 2]\n",
      " [3 3 3]]\n",
      "outer sum matrix :\n",
      " [[2 2 2]\n",
      " [3 3 3]\n",
      " [4 4 4]]\n"
     ]
    }
   ],
   "source": [
    "u=np.array([[1,2,3]]).T\n",
    "v=np.array([[1,1,1]]).T\n",
    "\n",
    "sol1=np.dot(v.T,u)\n",
    "print('inner product :', sol1)\n",
    "sol2=np.matmul(v.T,u)\n",
    "print('inner product :',sol2)\n",
    "\n",
    "sol3=np.dot(u,v.T)\n",
    "print('outer product : \\n',sol3)\n",
    "sol4=np.matmul(u,v.T)\n",
    "print('outer product : \\n',sol4)\n",
    "\n",
    "sol5=np.add(u,v.T)\n",
    "print('outer sum matrix :\\n',sol5)\n",
    "sol6=np.add(u,v.T)\n",
    "print('outer sum matrix :\\n',sol6)\n",
    "\n"
   ]
  },
  {
   "cell_type": "markdown",
   "metadata": {},
   "source": [
    "Given the following matrix\n",
    "\n",
    "$$\n",
    "M = \n",
    "\\begin{pmatrix}\n",
    "    0 & 1 & 2 \\\\\n",
    "    3 & 4 & 5 \\\\\n",
    "    6 & 7 & 8 \\\\\n",
    "\\end{pmatrix}\n",
    "$$\n",
    "\n",
    "- Create $M$ using as a list of lists and access the element in the middle\n",
    "- Propose at least 2 ways to create $M$ using numpy and access the element in the middle\n",
    "- Swap its first and second row\n",
    "- Propose at least 3 ways to extract the submatrix $\\begin{pmatrix}4 & 5 \\\\7 & 8 \\\\\\end{pmatrix}$\n",
    "- Propose at least 2 ways to extract the diagonal of $M$\n",
    "- Propose at least 2 ways to compute $M^3$\n",
    "- Compute $v^{\\top} M$, resp. $M N$ for a vector, resp. a matrix of your choice. \n",
    "- Propose 2 ways to \"vectorize\" the matrix, i.e., transform it into\n",
    "  - $(0, 1, 2, 3, 4, 5, 6, 7, 8)$\n",
    "  - $(0, 3, 6, 1, 4, 7, 2, 5, 8)$\n",
    "- Consider $v = (1, 2 , 3)$, compute the\n",
    "  - row-wise multiplication of $M$ by $v$ ($M_{i\\cdot}$ is multiplied by $v_i$)\n",
    "  - column-wise multiplication of $M$ by $v$ ($M_{\\cdot j}$ is multiplied by $v_i$)"
   ]
  },
  {
   "cell_type": "code",
   "execution_count": 85,
   "metadata": {},
   "outputs": [
    {
     "name": "stdout",
     "output_type": "stream",
     "text": [
      "element in the middle :  4\n",
      "[[0 1 2]\n",
      " [3 4 5]\n",
      " [6 7 8]] <class 'numpy.ndarray'>\n",
      "element in the middle :  4\n",
      "[[0 1 2]\n",
      " [3 4 5]\n",
      " [6 7 8]] <class 'numpy.matrix'>\n",
      "element in the middle :  4\n",
      "swap rows for array : \n",
      " [[3 4 5]\n",
      " [0 1 2]\n",
      " [6 7 8]]\n",
      "swap rows for matrix: \n",
      " [[3 4 5]\n",
      " [0 1 2]\n",
      " [6 7 8]]\n",
      "submatrix : \n",
      " [[4 5]\n",
      " [7 8]]\n",
      "submatrix : \n",
      " [[4 5]\n",
      " [7 8]]\n",
      "submatrix : \n",
      " [[4 5]\n",
      " [7 8]]\n",
      "diagonal : \n",
      " [0 4 8]\n",
      "diagonal : \n",
      " [0 4 8]\n",
      "M cube : \n",
      " [[ 180  234  288]\n",
      " [ 558  720  882]\n",
      " [ 936 1206 1476]]\n",
      "M cube : \n",
      " [[ 180  234  288]\n",
      " [ 558  720  882]\n",
      " [ 936 1206 1476]]\n",
      "M vect : \n",
      " [[0 1 2 3 4 5 6 7 8]]\n",
      "M vect F: \n",
      " [[0 3 6 1 4 7 2 5 8]]\n",
      "M vect : \n",
      " [[0 1 2 3 4 5 6 7 8]]\n",
      "M vect F : \n",
      " [[0 3 6 1 4 7 2 5 8]]\n",
      "product : \n",
      " [[ 8]\n",
      " [26]\n",
      " [44]]\n"
     ]
    }
   ],
   "source": [
    "M=[[0,1,2],[3,4,5],[6,7,8]]\n",
    "print('element in the middle : ', M[1][1] )\n",
    "\n",
    "#-----------------------\n",
    "\n",
    "M1=np.array([[0,1,2],[3,4,5],[6,7,8]])\n",
    "print(M1, type(M1))\n",
    "print('element in the middle : ', M1[1][1] )\n",
    "M2=np.matrix([[0,1,2],[3,4,5],[6,7,8]])\n",
    "print(M2, type(M2))\n",
    "print('element in the middle : ', M2[1,1] )\n",
    "\n",
    "#-----------------------\n",
    "\n",
    "M1[[0,1]]=M1[[1,0]]\n",
    "print('swap rows for array : \\n', M1)\n",
    "M2[[0,1]]=M2[[1,0]]\n",
    "print('swap rows for matrix: \\n', M2)\n",
    "\n",
    "#-----------------------\n",
    "\n",
    "M1=np.array([[0,1,2],[3,4,5],[6,7,8]])\n",
    "M2=np.matrix([[0,1,2],[3,4,5],[6,7,8]])\n",
    "\n",
    "M1_sub1=M1[np.ix_([1,2],[1,2])]\n",
    "print('submatrix : \\n', M1_sub1)\n",
    "M1_sub2=M1[1:3,1:3]\n",
    "print('submatrix : \\n', M1_sub2)\n",
    "M1_sub3=M1[[[1],[2]],[1,2]]\n",
    "print('submatrix : \\n', M1_sub3)\n",
    "\n",
    "#-----------------------\n",
    "\n",
    "M1_d1=np.diag(M1)\n",
    "print('diagonal : \\n', M1_d1)\n",
    "M1_d2=np.array([M1[k,k] for k in range(len(M1))])\n",
    "print('diagonal : \\n', M1_d2)\n",
    "\n",
    "#-----------------------\n",
    "\n",
    "M_cube1=np.dot(M,np.dot(M,M))\n",
    "print('M cube : \\n', M_cube1)\n",
    "M_cube2=np.linalg.matrix_power(M,3)\n",
    "print('M cube : \\n', M_cube2)\n",
    "\n",
    "#-----------------------\n",
    "\n",
    "M_vect1=np.matrix.flatten(M2)\n",
    "print('M vect : \\n', M_vect1)\n",
    "M_vect1_F=np.matrix.flatten(M2,'F')\n",
    "print('M vect F: \\n', M_vect1_F)\n",
    "\n",
    "M_vect2=M1.reshape((1,9))\n",
    "print('M vect : \\n', M_vect2)\n",
    "M_vect2_F=(M1.T).reshape((1,9))\n",
    "print('M vect F : \\n', M_vect2_F)\n",
    "\n",
    "#-----------------------\n",
    "\n",
    "v=np.array([[1,2,3]]).T\n",
    "\n",
    "product1=np.dot(M1,v)\n",
    "print(\"product : \\n\",product1)\n"
   ]
  },
  {
   "cell_type": "markdown",
   "metadata": {},
   "source": [
    "Write a function `is_symmetric` that checks whether a given n x n matrix is symmetric, and provide an example"
   ]
  },
  {
   "cell_type": "code",
   "execution_count": 93,
   "metadata": {},
   "outputs": [],
   "source": [
    "def is_symmetric(M):\n",
    "    if np.all(M==np.transpose(M)):\n",
    "        return True\n",
    "    else:\n",
    "        return('matrix non-symmetric')"
   ]
  },
  {
   "cell_type": "code",
   "execution_count": 96,
   "metadata": {},
   "outputs": [
    {
     "name": "stdout",
     "output_type": "stream",
     "text": [
      "M: matrix non-symmetric\n",
      "N: True\n"
     ]
    }
   ],
   "source": [
    "print('M:',is_symmetric(M2))\n",
    "\n",
    "N=np.matrix([[1,5,3],[5,2,6],[3,6,7]])\n",
    "print('N:',is_symmetric(N))"
   ]
  },
  {
   "cell_type": "markdown",
   "metadata": {},
   "source": [
    "## Random\n",
    "\n",
    "REQUIREMENT: USE THE FUNCTION `get_random_number_generator` as previously used in Lab 2."
   ]
  },
  {
   "cell_type": "markdown",
   "metadata": {},
   "source": [
    "Consider the Bernoulli(0.4) distribution\n",
    "\n",
    "- Propose at least 2 ways to generate n=1000 samples from it\n",
    "- Compute the empirical mean and variance"
   ]
  },
  {
   "cell_type": "code",
   "execution_count": 24,
   "metadata": {},
   "outputs": [
    {
     "ename": "TypeError",
     "evalue": "descriptor 'uniform' for 'numpy.random._generator.Generator' objects doesn't apply to a 'list' object",
     "output_type": "error",
     "traceback": [
      "\u001b[1;31m---------------------------------------------------------------------------\u001b[0m",
      "\u001b[1;31mTypeError\u001b[0m                                 Traceback (most recent call last)",
      "\u001b[1;32m~\\AppData\\Local\\Temp/ipykernel_10772/793235406.py\u001b[0m in \u001b[0;36m<module>\u001b[1;34m\u001b[0m\n\u001b[0;32m      1\u001b[0m \u001b[1;31m# binomiale\u001b[0m\u001b[1;33m\u001b[0m\u001b[1;33m\u001b[0m\u001b[1;33m\u001b[0m\u001b[0m\n\u001b[1;32m----> 2\u001b[1;33m \u001b[0mnp\u001b[0m\u001b[1;33m.\u001b[0m\u001b[0mrandom\u001b[0m\u001b[1;33m.\u001b[0m\u001b[0mGenerator\u001b[0m\u001b[1;33m.\u001b[0m\u001b[0muniform\u001b[0m\u001b[1;33m(\u001b[0m\u001b[1;33m[\u001b[0m\u001b[1;36m0\u001b[0m\u001b[1;33m,\u001b[0m\u001b[1;36m1\u001b[0m\u001b[1;33m]\u001b[0m\u001b[1;33m,\u001b[0m\u001b[1;33m[\u001b[0m\u001b[1;36m0\u001b[0m\u001b[1;33m,\u001b[0m\u001b[1;36m2\u001b[0m\u001b[1;33m]\u001b[0m\u001b[1;33m)\u001b[0m\u001b[1;33m\u001b[0m\u001b[1;33m\u001b[0m\u001b[0m\n\u001b[0m\u001b[0;32m      3\u001b[0m \u001b[1;33m\u001b[0m\u001b[0m\n\u001b[0;32m      4\u001b[0m \u001b[1;31m# générer une uniforme\u001b[0m\u001b[1;33m\u001b[0m\u001b[1;33m\u001b[0m\u001b[1;33m\u001b[0m\u001b[0m\n\u001b[0;32m      5\u001b[0m \u001b[0mrng\u001b[0m \u001b[1;33m=\u001b[0m \u001b[0mget_random_number_generator\u001b[0m \u001b[1;33m(\u001b[0m\u001b[1;32mNone\u001b[0m\u001b[1;33m)\u001b[0m\u001b[1;33m\u001b[0m\u001b[1;33m\u001b[0m\u001b[0m\n",
      "\u001b[1;31mTypeError\u001b[0m: descriptor 'uniform' for 'numpy.random._generator.Generator' objects doesn't apply to a 'list' object"
     ]
    }
   ],
   "source": [
    "# binomiale\n",
    "np.random.Generator.uniform([0,1],[0,2])\n",
    "\n",
    "# générer une uniforme\n",
    "rng = get_random_number_generator (None)\n",
    "p=0.4\n",
    "rng.uniform()== 0.4\n",
    "\n"
   ]
  },
  {
   "cell_type": "markdown",
   "metadata": {},
   "source": [
    "Consider a random matrix of size $50 \\times 100$, filled with i.i.d. standard Gaussian variables, compute\n",
    "\n",
    "- the absolute value of each entry\n",
    "- the sum of each row\n",
    "- the sum of each colomn \n",
    "- the (euclidean) norm of each row\n",
    "- the (euclidean) norm of each column"
   ]
  },
  {
   "cell_type": "markdown",
   "metadata": {},
   "source": []
  }
 ],
 "metadata": {
  "interpreter": {
   "hash": "94879e2c76d96b9aec34d89dfc8921b761ec717141d3ba97614ddba214dd0b43"
  },
  "kernelspec": {
   "display_name": "Python 3.8.11 64-bit ('sdia-python': conda)",
   "name": "python3"
  },
  "language_info": {
   "codemirror_mode": {
    "name": "ipython",
    "version": 3
   },
   "file_extension": ".py",
   "mimetype": "text/x-python",
   "name": "python",
   "nbconvert_exporter": "python",
   "pygments_lexer": "ipython3",
   "version": "3.8.11"
  },
  "toc": {
   "base_numbering": 1,
   "nav_menu": {},
   "number_sections": false,
   "sideBar": true,
   "skip_h1_title": true,
   "title_cell": "Lecture Outline",
   "title_sidebar": "Contents",
   "toc_cell": true,
   "toc_position": {},
   "toc_section_display": true,
   "toc_window_display": true
  }
 },
 "nbformat": 4,
 "nbformat_minor": 4
}
