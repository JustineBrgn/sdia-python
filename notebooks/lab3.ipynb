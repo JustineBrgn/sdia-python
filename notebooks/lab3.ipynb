{
 "cells": [
  {
   "cell_type": "markdown",
   "source": [
    "# Practical session 3 - Practice with numpy\n",
    "\n",
    "Course: [SDIA-Python](https://github.com/guilgautier/sdia-python)\n",
    "\n",
    "Date: 10/06/2021\n",
    "\n",
    "Instructor: [Guillaume Gautier](https://guilgautier.github.io/)\n",
    "\n",
    "Students (pair):\n",
    "- [Student 1]([link](https://github.com/username1))\n",
    "- [Student 2]([link](https://github.com/username2))"
   ],
   "metadata": {}
  },
  {
   "cell_type": "code",
   "execution_count": 1,
   "source": [
    "%load_ext autoreload\r\n",
    "%autoreload 2\r\n",
    "\r\n",
    "import numpy as np\r\n",
    "from sdia_python.lab2.utils import get_random_number_generator"
   ],
   "outputs": [],
   "metadata": {}
  },
  {
   "cell_type": "code",
   "execution_count": 2,
   "source": [
    "my_array = np.array([0])\r\n",
    "print(type(my_array))\r\n",
    "dir(np.ndarray)"
   ],
   "outputs": [
    {
     "output_type": "stream",
     "name": "stdout",
     "text": [
      "<class 'numpy.ndarray'>\n"
     ]
    },
    {
     "output_type": "execute_result",
     "data": {
      "text/plain": [
       "['T',\n",
       " '__abs__',\n",
       " '__add__',\n",
       " '__and__',\n",
       " '__array__',\n",
       " '__array_finalize__',\n",
       " '__array_function__',\n",
       " '__array_interface__',\n",
       " '__array_prepare__',\n",
       " '__array_priority__',\n",
       " '__array_struct__',\n",
       " '__array_ufunc__',\n",
       " '__array_wrap__',\n",
       " '__bool__',\n",
       " '__class__',\n",
       " '__complex__',\n",
       " '__contains__',\n",
       " '__copy__',\n",
       " '__deepcopy__',\n",
       " '__delattr__',\n",
       " '__delitem__',\n",
       " '__dir__',\n",
       " '__divmod__',\n",
       " '__doc__',\n",
       " '__eq__',\n",
       " '__float__',\n",
       " '__floordiv__',\n",
       " '__format__',\n",
       " '__ge__',\n",
       " '__getattribute__',\n",
       " '__getitem__',\n",
       " '__gt__',\n",
       " '__hash__',\n",
       " '__iadd__',\n",
       " '__iand__',\n",
       " '__ifloordiv__',\n",
       " '__ilshift__',\n",
       " '__imatmul__',\n",
       " '__imod__',\n",
       " '__imul__',\n",
       " '__index__',\n",
       " '__init__',\n",
       " '__init_subclass__',\n",
       " '__int__',\n",
       " '__invert__',\n",
       " '__ior__',\n",
       " '__ipow__',\n",
       " '__irshift__',\n",
       " '__isub__',\n",
       " '__iter__',\n",
       " '__itruediv__',\n",
       " '__ixor__',\n",
       " '__le__',\n",
       " '__len__',\n",
       " '__lshift__',\n",
       " '__lt__',\n",
       " '__matmul__',\n",
       " '__mod__',\n",
       " '__mul__',\n",
       " '__ne__',\n",
       " '__neg__',\n",
       " '__new__',\n",
       " '__or__',\n",
       " '__pos__',\n",
       " '__pow__',\n",
       " '__radd__',\n",
       " '__rand__',\n",
       " '__rdivmod__',\n",
       " '__reduce__',\n",
       " '__reduce_ex__',\n",
       " '__repr__',\n",
       " '__rfloordiv__',\n",
       " '__rlshift__',\n",
       " '__rmatmul__',\n",
       " '__rmod__',\n",
       " '__rmul__',\n",
       " '__ror__',\n",
       " '__rpow__',\n",
       " '__rrshift__',\n",
       " '__rshift__',\n",
       " '__rsub__',\n",
       " '__rtruediv__',\n",
       " '__rxor__',\n",
       " '__setattr__',\n",
       " '__setitem__',\n",
       " '__setstate__',\n",
       " '__sizeof__',\n",
       " '__str__',\n",
       " '__sub__',\n",
       " '__subclasshook__',\n",
       " '__truediv__',\n",
       " '__xor__',\n",
       " 'all',\n",
       " 'any',\n",
       " 'argmax',\n",
       " 'argmin',\n",
       " 'argpartition',\n",
       " 'argsort',\n",
       " 'astype',\n",
       " 'base',\n",
       " 'byteswap',\n",
       " 'choose',\n",
       " 'clip',\n",
       " 'compress',\n",
       " 'conj',\n",
       " 'conjugate',\n",
       " 'copy',\n",
       " 'ctypes',\n",
       " 'cumprod',\n",
       " 'cumsum',\n",
       " 'data',\n",
       " 'diagonal',\n",
       " 'dot',\n",
       " 'dtype',\n",
       " 'dump',\n",
       " 'dumps',\n",
       " 'fill',\n",
       " 'flags',\n",
       " 'flat',\n",
       " 'flatten',\n",
       " 'getfield',\n",
       " 'imag',\n",
       " 'item',\n",
       " 'itemset',\n",
       " 'itemsize',\n",
       " 'max',\n",
       " 'mean',\n",
       " 'min',\n",
       " 'nbytes',\n",
       " 'ndim',\n",
       " 'newbyteorder',\n",
       " 'nonzero',\n",
       " 'partition',\n",
       " 'prod',\n",
       " 'ptp',\n",
       " 'put',\n",
       " 'ravel',\n",
       " 'real',\n",
       " 'repeat',\n",
       " 'reshape',\n",
       " 'resize',\n",
       " 'round',\n",
       " 'searchsorted',\n",
       " 'setfield',\n",
       " 'setflags',\n",
       " 'shape',\n",
       " 'size',\n",
       " 'sort',\n",
       " 'squeeze',\n",
       " 'std',\n",
       " 'strides',\n",
       " 'sum',\n",
       " 'swapaxes',\n",
       " 'take',\n",
       " 'tobytes',\n",
       " 'tofile',\n",
       " 'tolist',\n",
       " 'tostring',\n",
       " 'trace',\n",
       " 'transpose',\n",
       " 'var',\n",
       " 'view']"
      ]
     },
     "metadata": {},
     "execution_count": 2
    }
   ],
   "metadata": {}
  },
  {
   "cell_type": "markdown",
   "source": [
    "Propose at leat 2 ways to create an integer vector of size 100 made of 1s"
   ],
   "metadata": {}
  },
  {
   "cell_type": "code",
   "execution_count": 8,
   "source": [
    "v1=np.ones(100)\r\n",
    "print(v1, len(v1))\r\n",
    "v2=np.array([1])\r\n",
    "print(v2)"
   ],
   "outputs": [
    {
     "output_type": "stream",
     "name": "stdout",
     "text": [
      "[1. 1. 1. 1. 1. 1. 1. 1. 1. 1. 1. 1. 1. 1. 1. 1. 1. 1. 1. 1. 1. 1. 1. 1.\n",
      " 1. 1. 1. 1. 1. 1. 1. 1. 1. 1. 1. 1. 1. 1. 1. 1. 1. 1. 1. 1. 1. 1. 1. 1.\n",
      " 1. 1. 1. 1. 1. 1. 1. 1. 1. 1. 1. 1. 1. 1. 1. 1. 1. 1. 1. 1. 1. 1. 1. 1.\n",
      " 1. 1. 1. 1. 1. 1. 1. 1. 1. 1. 1. 1. 1. 1. 1. 1. 1. 1. 1. 1. 1. 1. 1. 1.\n",
      " 1. 1. 1. 1.] 100\n",
      "[1]\n"
     ]
    }
   ],
   "metadata": {}
  },
  {
   "cell_type": "markdown",
   "source": [
    "Create a vector with values ranging from 10 to 49"
   ],
   "metadata": {}
  },
  {
   "cell_type": "code",
   "execution_count": 10,
   "source": [
    "v=np.arange(10,50)\r\n",
    "print(v)"
   ],
   "outputs": [
    {
     "output_type": "stream",
     "name": "stdout",
     "text": [
      "[10 11 12 13 14 15 16 17 18 19 20 21 22 23 24 25 26 27 28 29 30 31 32 33\n",
      " 34 35 36 37 38 39 40 41 42 43 44 45 46 47 48 49]\n"
     ]
    }
   ],
   "metadata": {}
  },
  {
   "cell_type": "markdown",
   "source": [
    "Propose a way to construct the vector $(0.0, 0.2, 0.4, 0.6, 0.8)$"
   ],
   "metadata": {}
  },
  {
   "cell_type": "code",
   "execution_count": 15,
   "source": [
    "v1=np.linspace(0,0.8,5)\r\n",
    "print(v1, type(v1))\r\n",
    "v2=np.arange(0,1,0.2)\r\n",
    "print(v2, type(v2))\r\n"
   ],
   "outputs": [
    {
     "output_type": "stream",
     "name": "stdout",
     "text": [
      "[0.  0.2 0.4 0.6 0.8] <class 'numpy.ndarray'>\n",
      "[0.  0.2 0.4 0.6 0.8] <class 'numpy.ndarray'>\n"
     ]
    }
   ],
   "metadata": {}
  },
  {
   "cell_type": "markdown",
   "source": [
    "Convert a float array into an integer array in place"
   ],
   "metadata": {}
  },
  {
   "cell_type": "code",
   "execution_count": 20,
   "source": [
    "float_array=np.array([0.2,5.6,4.3])\r\n",
    "int_array=float_array.astype(int)\r\n",
    "print(int_array)"
   ],
   "outputs": [
    {
     "output_type": "stream",
     "name": "stdout",
     "text": [
      "[0 5 4]\n"
     ]
    }
   ],
   "metadata": {}
  },
  {
   "cell_type": "markdown",
   "source": [
    "Given a boolean array\n",
    "\n",
    "- return the indices where \n",
    "- negate the array inplace? "
   ],
   "metadata": {}
  },
  {
   "cell_type": "code",
   "execution_count": 27,
   "source": [
    "boolean_array=np.array([True,True,False,True])\r\n",
    "\r\n",
    "where_true=np.where(boolean_array)\r\n",
    "print(where_true)\r\n",
    "\r\n",
    "inv=np.invert(boolean_array)\r\n",
    "print(inv, type(inv))"
   ],
   "outputs": [
    {
     "output_type": "stream",
     "name": "stdout",
     "text": [
      "(array([0, 1, 3], dtype=int64),)\n",
      "[False False  True False] <class 'numpy.ndarray'>\n"
     ]
    }
   ],
   "metadata": {}
  },
  {
   "cell_type": "markdown",
   "source": [
    "Given 2 vectors $u, v$, propose at least\n",
    "\n",
    "- 2 ways to compute the inner product $v^{\\top} u$ (here they must have the same size)\n",
    "- 2 ways to compute the outer product matrix $u v^{\\top}$\n",
    "- 2 ways to compute the outer sum matrix \"$M = u + v^{\\top}$\", where $M_{ij} = u_i + v_j$"
   ],
   "metadata": {}
  },
  {
   "cell_type": "code",
   "execution_count": 41,
   "source": [
    "u=np.array([[1,2,3]]).T\r\n",
    "v=np.array([[1,1,1]]).T\r\n",
    "\r\n",
    "sol1=np.dot(v.T,u)\r\n",
    "print('inner product :', sol1)\r\n",
    "sol2=np.matmul(v.T,u)\r\n",
    "print('inner product :',sol2)\r\n",
    "\r\n",
    "sol3=np.dot(u,v.T)\r\n",
    "print('outer product : \\n',sol3)\r\n",
    "sol4=np.matmul(u,v.T)\r\n",
    "print('outer product : \\n',sol4)\r\n",
    "\r\n",
    "sol5=np.add(u,v.T)\r\n",
    "print('outer sum matrix :\\n',sol5)\r\n",
    "sol6=np.add(u,v.T)\r\n",
    "print('outer sum matrix :\\n',sol6)\r\n",
    "\r\n"
   ],
   "outputs": [
    {
     "output_type": "stream",
     "name": "stdout",
     "text": [
      "inner product : [[6]]\n",
      "inner product : [[6]]\n",
      "outer product : \n",
      " [[1 1 1]\n",
      " [2 2 2]\n",
      " [3 3 3]]\n",
      "outer product : \n",
      " [[1 1 1]\n",
      " [2 2 2]\n",
      " [3 3 3]]\n",
      "outer sum matrix :\n",
      " [[2 2 2]\n",
      " [3 3 3]\n",
      " [4 4 4]]\n"
     ]
    }
   ],
   "metadata": {}
  },
  {
   "cell_type": "markdown",
   "source": [
    "Given the following matrix\n",
    "\n",
    "$$\n",
    "M = \n",
    "\\begin{pmatrix}\n",
    "    0 & 1 & 2 \\\\\n",
    "    3 & 4 & 5 \\\\\n",
    "    6 & 7 & 8 \\\\\n",
    "\\end{pmatrix}\n",
    "$$\n",
    "\n",
    "- Create $M$ using as a list of lists and access the element in the middle\n",
    "- Propose at least 2 ways to create $M$ using numpy and access the element in the middle\n",
    "- Swap its first and second row\n",
    "- Propose at least 3 ways to extract the submatrix $\\begin{pmatrix}4 & 5 \\\\7 & 8 \\\\\\end{pmatrix}$\n",
    "- Propose at least 2 ways to extract the diagonal of $M$\n",
    "- Propose at least 2 ways to compute $M^3$\n",
    "- Compute $v^{\\top} M$, resp. $M N$ for a vector, resp. a matrix of your choice. \n",
    "- Propose 2 ways to \"vectorize\" the matrix, i.e., transform it into\n",
    "  - $(0, 1, 2, 3, 4, 5, 6, 7, 8)$\n",
    "  - $(0, 3, 6, 1, 4, 7, 2, 5, 8)$\n",
    "- Consider $v = (1, 2 , 3)$, compute the\n",
    "  - row-wise multiplication of $M$ by $v$ ($M_{i\\cdot}$ is multiplied by $v_i$)\n",
    "  - column-wise multiplication of $M$ by $v$ ($M_{\\cdot j}$ is multiplied by $v_i$)"
   ],
   "metadata": {}
  },
  {
   "cell_type": "code",
   "execution_count": 85,
   "source": [
    "M=[[0,1,2],[3,4,5],[6,7,8]]\r\n",
    "print('element in the middle : ', M[1][1] )\r\n",
    "\r\n",
    "#-----------------------\r\n",
    "\r\n",
    "M1=np.array([[0,1,2],[3,4,5],[6,7,8]])\r\n",
    "print(M1, type(M1))\r\n",
    "print('element in the middle : ', M1[1][1] )\r\n",
    "M2=np.matrix([[0,1,2],[3,4,5],[6,7,8]])\r\n",
    "print(M2, type(M2))\r\n",
    "print('element in the middle : ', M2[1,1] )\r\n",
    "\r\n",
    "#-----------------------\r\n",
    "\r\n",
    "M1[[0,1]]=M1[[1,0]]\r\n",
    "print('swap rows for array : \\n', M1)\r\n",
    "M2[[0,1]]=M2[[1,0]]\r\n",
    "print('swap rows for matrix: \\n', M2)\r\n",
    "\r\n",
    "#-----------------------\r\n",
    "\r\n",
    "M1=np.array([[0,1,2],[3,4,5],[6,7,8]])\r\n",
    "M2=np.matrix([[0,1,2],[3,4,5],[6,7,8]])\r\n",
    "\r\n",
    "M1_sub1=M1[np.ix_([1,2],[1,2])]\r\n",
    "print('submatrix : \\n', M1_sub1)\r\n",
    "M1_sub2=M1[1:3,1:3]\r\n",
    "print('submatrix : \\n', M1_sub2)\r\n",
    "M1_sub3=M1[[[1],[2]],[1,2]]\r\n",
    "print('submatrix : \\n', M1_sub3)\r\n",
    "\r\n",
    "#-----------------------\r\n",
    "\r\n",
    "M1_d1=np.diag(M1)\r\n",
    "print('diagonal : \\n', M1_d1)\r\n",
    "M1_d2=np.array([M1[k,k] for k in range(len(M1))])\r\n",
    "print('diagonal : \\n', M1_d2)\r\n",
    "\r\n",
    "#-----------------------\r\n",
    "\r\n",
    "M_cube1=np.dot(M,np.dot(M,M))\r\n",
    "print('M cube : \\n', M_cube1)\r\n",
    "M_cube2=np.linalg.matrix_power(M,3)\r\n",
    "print('M cube : \\n', M_cube2)\r\n",
    "\r\n",
    "#-----------------------\r\n",
    "\r\n",
    "M_vect1=np.matrix.flatten(M2)\r\n",
    "print('M vect : \\n', M_vect1)\r\n",
    "M_vect1_F=np.matrix.flatten(M2,'F')\r\n",
    "print('M vect F: \\n', M_vect1_F)\r\n",
    "\r\n",
    "M_vect2=M1.reshape((1,9))\r\n",
    "print('M vect : \\n', M_vect2)\r\n",
    "M_vect2_F=(M1.T).reshape((1,9))\r\n",
    "print('M vect F : \\n', M_vect2_F)\r\n",
    "\r\n",
    "#-----------------------\r\n",
    "\r\n",
    "v=np.array([[1,2,3]]).T\r\n",
    "\r\n",
    "product1=np.dot(M1,v)\r\n",
    "print(\"product : \\n\",product1)\r\n"
   ],
   "outputs": [
    {
     "output_type": "stream",
     "name": "stdout",
     "text": [
      "element in the middle :  4\n",
      "[[0 1 2]\n",
      " [3 4 5]\n",
      " [6 7 8]] <class 'numpy.ndarray'>\n",
      "element in the middle :  4\n",
      "[[0 1 2]\n",
      " [3 4 5]\n",
      " [6 7 8]] <class 'numpy.matrix'>\n",
      "element in the middle :  4\n",
      "swap rows for array : \n",
      " [[3 4 5]\n",
      " [0 1 2]\n",
      " [6 7 8]]\n",
      "swap rows for matrix: \n",
      " [[3 4 5]\n",
      " [0 1 2]\n",
      " [6 7 8]]\n",
      "submatrix : \n",
      " [[4 5]\n",
      " [7 8]]\n",
      "submatrix : \n",
      " [[4 5]\n",
      " [7 8]]\n",
      "submatrix : \n",
      " [[4 5]\n",
      " [7 8]]\n",
      "diagonal : \n",
      " [0 4 8]\n",
      "diagonal : \n",
      " [0 4 8]\n",
      "M cube : \n",
      " [[ 180  234  288]\n",
      " [ 558  720  882]\n",
      " [ 936 1206 1476]]\n",
      "M cube : \n",
      " [[ 180  234  288]\n",
      " [ 558  720  882]\n",
      " [ 936 1206 1476]]\n",
      "M vect : \n",
      " [[0 1 2 3 4 5 6 7 8]]\n",
      "M vect F: \n",
      " [[0 3 6 1 4 7 2 5 8]]\n",
      "M vect : \n",
      " [[0 1 2 3 4 5 6 7 8]]\n",
      "M vect F : \n",
      " [[0 3 6 1 4 7 2 5 8]]\n",
      "product : \n",
      " [[ 8]\n",
      " [26]\n",
      " [44]]\n"
     ]
    }
   ],
   "metadata": {}
  },
  {
   "cell_type": "markdown",
   "source": [
    "Write a function `is_symmetric` that checks whether a given n x n matrix is symmetric, and provide an example"
   ],
   "metadata": {}
  },
  {
   "cell_type": "code",
   "execution_count": 93,
   "source": [
    "def is_symmetric(M):\r\n",
    "    if np.all(M==np.transpose(M)):\r\n",
    "        return True\r\n",
    "    else:\r\n",
    "        return('matrix non-symmetric')"
   ],
   "outputs": [],
   "metadata": {}
  },
  {
   "cell_type": "code",
   "execution_count": 96,
   "source": [
    "print('M:',is_symmetric(M2))\r\n",
    "\r\n",
    "N=np.matrix([[1,5,3],[5,2,6],[3,6,7]])\r\n",
    "print('N:',is_symmetric(N))"
   ],
   "outputs": [
    {
     "output_type": "stream",
     "name": "stdout",
     "text": [
      "M: matrix non-symmetric\n",
      "N: True\n"
     ]
    }
   ],
   "metadata": {}
  },
  {
   "cell_type": "markdown",
   "source": [
    "## Random\n",
    "\n",
    "REQUIREMENT: USE THE FUNCTION `get_random_number_generator` as previously used in Lab 2."
   ],
   "metadata": {}
  },
  {
   "cell_type": "markdown",
   "source": [
    "Consider the Bernoulli(0.4) distribution\n",
    "\n",
    "- Propose at least 2 ways to generate n=1000 samples from it\n",
    "- Compute the empirical mean and variance"
   ],
   "metadata": {}
  },
  {
   "cell_type": "markdown",
   "source": [
    "Consider a random matrix of size $50 \\times 100$, filled with i.i.d. standard Gaussian variables, compute\n",
    "\n",
    "- the absolute value of each entry\n",
    "- the sum of each row\n",
    "- the sum of each colomn \n",
    "- the (euclidean) norm of each row\n",
    "- the (euclidean) norm of each column"
   ],
   "metadata": {}
  },
  {
   "cell_type": "markdown",
   "source": [],
   "metadata": {}
  }
 ],
 "metadata": {
  "kernelspec": {
   "name": "python3",
   "display_name": "Python 3.8.11 64-bit ('sdia-python': conda)"
  },
  "language_info": {
   "codemirror_mode": {
    "name": "ipython",
    "version": 3
   },
   "file_extension": ".py",
   "mimetype": "text/x-python",
   "name": "python",
   "nbconvert_exporter": "python",
   "pygments_lexer": "ipython3",
   "version": "3.8.11"
  },
  "toc": {
   "base_numbering": 1,
   "nav_menu": {},
   "number_sections": false,
   "sideBar": true,
   "skip_h1_title": true,
   "title_cell": "Lecture Outline",
   "title_sidebar": "Contents",
   "toc_cell": true,
   "toc_position": {},
   "toc_section_display": true,
   "toc_window_display": true
  },
  "interpreter": {
   "hash": "94879e2c76d96b9aec34d89dfc8921b761ec717141d3ba97614ddba214dd0b43"
  }
 },
 "nbformat": 4,
 "nbformat_minor": 4
}
