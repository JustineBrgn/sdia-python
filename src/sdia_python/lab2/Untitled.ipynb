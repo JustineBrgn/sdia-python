{
 "cells": [
  {
   "cell_type": "code",
   "execution_count": 163,
   "metadata": {},
   "outputs": [],
   "source": [
    "#from sdia_python.lab2.utils import get_random_number_generator\n",
    "\n",
    "\n",
    "class BoxWindow:\n",
    "    \"\"\"[summary]\"\"\"\n",
    "\n",
    "    def __init__(self, args):\n",
    "        \"\"\"initialize the box window with the bounding points\n",
    "\n",
    "        Args:\n",
    "            args (np.array([integer])): array of the bounding points of the box\n",
    "        \"\"\"\n",
    "        self.bounds = args\n",
    "\n",
    "    def __str__(self):\n",
    "        r\"\"\"BoxWindow: :math:`[a_1, b_1] \\times [a_2, b_2] \\times \\cdots`\n",
    "\n",
    "        Returns:\n",
    "            str : give the bounds of the box\n",
    "        \"\"\"\n",
    "        mot=\"\"\n",
    "        for k in range(len(self.bounds)):\n",
    "            mot = mot+'['+str(self.bounds[k][0])+', '+ str(self.bounds[k][0])+']' \n",
    "            if k != len(self.bounds)-1:\n",
    "                mot=mot+' x '\n",
    "        \n",
    "        return (\"BoxWindow: \" + mot)\n",
    "\n",
    "    def __len__(self):\n",
    "        L=[]\n",
    "        for k in range(len(self.bounds)):\n",
    "            L.append(self.bounds[k][1]-self.bounds[k][0])\n",
    "        return L\n",
    "\n",
    "    def __contains__(self, args):\n",
    "        \"\"\"args: coordonnées de point\"\"\"\n",
    "        for p in range(len(args)):\n",
    "            if args[p]<self.bounds[p][1] and args[p]>self.bounds[p][0]:\n",
    "                continue\n",
    "            else:\n",
    "                return False\n",
    "        return True\n",
    "    \n",
    "#         a=self.bounds[:,0]\n",
    "#         b=self.bounds[:,1]\n",
    "#         return all(np.logical_and(a<= point, point<=b))\n",
    "    \n",
    "\n",
    "    def dimension(self):\n",
    "        \"\"\"[summary]\"\"\"\n",
    "        return (len(self.bounds))\n",
    "\n",
    "    def volume(self):\n",
    "        \"\"\"[summary]\"\"\"\n",
    "        vol=1\n",
    "        for p in self.__len__():\n",
    "            vol=vol*p\n",
    "        return vol\n",
    "\n",
    "    def indicator_function(self, args):\n",
    "        \"\"\"[summary]\n",
    "\n",
    "        Args:\n",
    "            args ([type]): [description]\n",
    "        \"\"\"\n",
    "        if self.__contains__(args)==True:\n",
    "            return (1)\n",
    "        else:\n",
    "            return (0)\n",
    "        \n",
    "\n",
    "    def rand(self, n=1, rng=None):\n",
    "        \"\"\"Generate ``n`` points uniformly at random inside the :py:class:`BoxWindow`.\n",
    "\n",
    "        Args:\n",
    "            n (int, optional): [description]. Defaults to 1.\n",
    "            rng ([type], optional): [description]. Defaults to None.\n",
    "        \"\"\"\n",
    "        rng = get_random_number_generator(rng)\n",
    "        \n",
    "        L=[]\n",
    "        for p in range(n):\n",
    "            L_petit=[]\n",
    "            for k in range(len(self.bounds)):\n",
    "                if self.bounds[k][0]==self.bounds[k][1]:\n",
    "                    L_petit.append(self.bounds[k][0])\n",
    "                else:\n",
    "                    L_petit.append(np.random.uniform(self.bounds[k][1]-self.bounds[k][0])+self.bounds[k][0])\n",
    "            L.append(L_petit)\n",
    "\n",
    "        return (L)\n",
    "\n",
    "\n",
    "#heritage\n",
    "class UnitBoxWindow(BoxWindow):\n",
    "    def __init__(self, center, dimension):\n",
    "        \"\"\"[summary]\n",
    "\n",
    "        Args:\n",
    "            dimension ([type]): [description]\n",
    "            center ([type], optional): [description]. Defaults to None.\n",
    "        \"\"\"\n",
    "        super(BoxWindow, self).__init__(args)\n",
    "\n",
    "\n",
    "\n"
   ]
  },
  {
   "cell_type": "code",
   "execution_count": 120,
   "metadata": {},
   "outputs": [],
   "source": [
    "import numpy as np\n",
    "\n",
    "\n",
    "def get_random_number_generator(seed):\n",
    "    \"\"\"Turn seed into a np.random.Generator instance.\"\"\"\n",
    "    return np.random.default_rng(seed)"
   ]
  },
  {
   "cell_type": "code",
   "execution_count": 162,
   "metadata": {},
   "outputs": [
    {
     "data": {
      "text/plain": [
       "0.7974659616700035"
      ]
     },
     "execution_count": 162,
     "metadata": {},
     "output_type": "execute_result"
    }
   ],
   "source": [
    "np.random.uniform(0)"
   ]
  },
  {
   "cell_type": "code",
   "execution_count": 166,
   "metadata": {},
   "outputs": [],
   "source": [
    "import numpy as np\n",
    "c=BoxWindow(np.array([[2.5, 2.5]]))\n",
    "d=BoxWindow(np.array([[0, 5], [-1.45, 3.14], [-10, 10]]))"
   ]
  },
  {
   "cell_type": "code",
   "execution_count": 149,
   "metadata": {},
   "outputs": [
    {
     "data": {
      "text/plain": [
       "(3, 2)"
      ]
     },
     "execution_count": 149,
     "metadata": {},
     "output_type": "execute_result"
    }
   ],
   "source": [
    "d.bounds.shape"
   ]
  },
  {
   "cell_type": "code",
   "execution_count": 123,
   "metadata": {},
   "outputs": [
    {
     "data": {
      "text/plain": [
       "5.0"
      ]
     },
     "execution_count": 123,
     "metadata": {},
     "output_type": "execute_result"
    }
   ],
   "source": [
    "d.bounds[0][1]"
   ]
  },
  {
   "cell_type": "code",
   "execution_count": 165,
   "metadata": {},
   "outputs": [
    {
     "data": {
      "text/plain": [
       "[[2.5]]"
      ]
     },
     "execution_count": 165,
     "metadata": {},
     "output_type": "execute_result"
    }
   ],
   "source": [
    "c.rand()"
   ]
  },
  {
   "cell_type": "code",
   "execution_count": 156,
   "metadata": {},
   "outputs": [],
   "source": [
    "point1=[-1,1,1]\n",
    "point2=[1,1,1]"
   ]
  },
  {
   "cell_type": "code",
   "execution_count": 137,
   "metadata": {},
   "outputs": [
    {
     "data": {
      "text/plain": [
       "False"
      ]
     },
     "execution_count": 137,
     "metadata": {},
     "output_type": "execute_result"
    }
   ],
   "source": [
    "d.__contains__(point1)"
   ]
  },
  {
   "cell_type": "code",
   "execution_count": 136,
   "metadata": {},
   "outputs": [
    {
     "data": {
      "text/plain": [
       "0"
      ]
     },
     "execution_count": 136,
     "metadata": {},
     "output_type": "execute_result"
    }
   ],
   "source": [
    "d.indicator_function(point1)"
   ]
  },
  {
   "cell_type": "code",
   "execution_count": 128,
   "metadata": {},
   "outputs": [
    {
     "data": {
      "text/plain": [
       "[5.0, 4.59, 20.0]"
      ]
     },
     "execution_count": 128,
     "metadata": {},
     "output_type": "execute_result"
    }
   ],
   "source": [
    "d.__len__()"
   ]
  },
  {
   "cell_type": "code",
   "execution_count": 129,
   "metadata": {},
   "outputs": [
    {
     "data": {
      "text/plain": [
       "459.0"
      ]
     },
     "execution_count": 129,
     "metadata": {},
     "output_type": "execute_result"
    }
   ],
   "source": [
    "d.volume()"
   ]
  },
  {
   "cell_type": "code",
   "execution_count": 33,
   "metadata": {},
   "outputs": [
    {
     "data": {
      "text/plain": [
       "'BoxWindow: [0.0, 0.0] x [-1.45, -1.45] x [-10.0, -10.0]'"
      ]
     },
     "execution_count": 33,
     "metadata": {},
     "output_type": "execute_result"
    }
   ],
   "source": [
    "d.__str__()"
   ]
  },
  {
   "cell_type": "code",
   "execution_count": 167,
   "metadata": {},
   "outputs": [
    {
     "data": {
      "text/plain": [
       "'BoxWindow: [2.5, 2.5]'"
      ]
     },
     "execution_count": 167,
     "metadata": {},
     "output_type": "execute_result"
    }
   ],
   "source": [
    "c.__str__()"
   ]
  },
  {
   "cell_type": "code",
   "execution_count": null,
   "metadata": {},
   "outputs": [],
   "source": []
  }
 ],
 "metadata": {
  "kernelspec": {
   "display_name": "Python 3",
   "language": "python",
   "name": "python3"
  },
  "language_info": {
   "codemirror_mode": {
    "name": "ipython",
    "version": 3
   },
   "file_extension": ".py",
   "mimetype": "text/x-python",
   "name": "python",
   "nbconvert_exporter": "python",
   "pygments_lexer": "ipython3",
   "version": "3.8.4rc1"
  }
 },
 "nbformat": 4,
 "nbformat_minor": 4
}
